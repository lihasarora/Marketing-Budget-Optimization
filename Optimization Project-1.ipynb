{
 "cells": [
  {
   "cell_type": "markdown",
   "id": "f3c3fe96",
   "metadata": {},
   "source": [
    "# Marketing Optimization  "
   ]
  },
  {
   "cell_type": "markdown",
   "id": "d2737388",
   "metadata": {},
   "source": [
    "### Importing Libraries "
   ]
  },
  {
   "cell_type": "code",
   "execution_count": 1,
   "id": "5de59b74",
   "metadata": {},
   "outputs": [],
   "source": [
    "import pandas as pd\n",
    "import numpy as np\n",
    "import gurobipy as gp\n",
    "import seaborn as sn\n",
    "import matplotlib.pyplot as plt\n",
    "# from IPython.core.interactiveshell import InteractiveShell\n",
    "# InteractiveShell.ast_node_interactivity = \"all\""
   ]
  },
  {
   "cell_type": "markdown",
   "id": "eefea628",
   "metadata": {},
   "source": [
    "### Importing ROI File "
   ]
  },
  {
   "cell_type": "code",
   "execution_count": 2,
   "id": "1dffef04",
   "metadata": {},
   "outputs": [],
   "source": [
    "roi_file = pd.read_csv(\"ROI_data.csv\")\n",
    "roi_file = roi_file.drop(['Platform'], axis = 1)\n",
    "channels = roi_file.columns\n",
    "roi_1 = np.array(roi_file.loc[0,:])\n",
    "roi_2 = np.array(roi_file.loc[1,:])"
   ]
  },
  {
   "cell_type": "code",
   "execution_count": 3,
   "id": "026d15e2",
   "metadata": {},
   "outputs": [
    {
     "data": {
      "text/html": [
       "<div>\n",
       "<style scoped>\n",
       "    .dataframe tbody tr th:only-of-type {\n",
       "        vertical-align: middle;\n",
       "    }\n",
       "\n",
       "    .dataframe tbody tr th {\n",
       "        vertical-align: top;\n",
       "    }\n",
       "\n",
       "    .dataframe thead th {\n",
       "        text-align: right;\n",
       "    }\n",
       "</style>\n",
       "<table border=\"1\" class=\"dataframe\">\n",
       "  <thead>\n",
       "    <tr style=\"text-align: right;\">\n",
       "      <th></th>\n",
       "      <th>Print</th>\n",
       "      <th>TV</th>\n",
       "      <th>SEO</th>\n",
       "      <th>AdWords</th>\n",
       "      <th>Facebook</th>\n",
       "      <th>LinkedIn</th>\n",
       "      <th>Instagram</th>\n",
       "      <th>Snapchat</th>\n",
       "      <th>Twitter</th>\n",
       "      <th>Email</th>\n",
       "    </tr>\n",
       "  </thead>\n",
       "  <tbody>\n",
       "    <tr>\n",
       "      <th>0</th>\n",
       "      <td>0.031</td>\n",
       "      <td>0.049</td>\n",
       "      <td>0.024</td>\n",
       "      <td>0.039</td>\n",
       "      <td>0.016</td>\n",
       "      <td>0.024</td>\n",
       "      <td>0.046</td>\n",
       "      <td>0.026</td>\n",
       "      <td>0.033</td>\n",
       "      <td>0.044</td>\n",
       "    </tr>\n",
       "    <tr>\n",
       "      <th>1</th>\n",
       "      <td>0.049</td>\n",
       "      <td>0.023</td>\n",
       "      <td>0.024</td>\n",
       "      <td>0.039</td>\n",
       "      <td>0.044</td>\n",
       "      <td>0.046</td>\n",
       "      <td>0.026</td>\n",
       "      <td>0.019</td>\n",
       "      <td>0.037</td>\n",
       "      <td>0.026</td>\n",
       "    </tr>\n",
       "  </tbody>\n",
       "</table>\n",
       "</div>"
      ],
      "text/plain": [
       "   Print     TV    SEO  AdWords  Facebook  LinkedIn  Instagram  Snapchat  \\\n",
       "0  0.031  0.049  0.024    0.039     0.016     0.024      0.046     0.026   \n",
       "1  0.049  0.023  0.024    0.039     0.044     0.046      0.026     0.019   \n",
       "\n",
       "   Twitter  Email  \n",
       "0    0.033  0.044  \n",
       "1    0.037  0.026  "
      ]
     },
     "execution_count": 3,
     "metadata": {},
     "output_type": "execute_result"
    }
   ],
   "source": [
    "roi_file"
   ]
  },
  {
   "cell_type": "markdown",
   "id": "5eebaf9e",
   "metadata": {},
   "source": [
    "### 3)\tFormulate the marketing budget allocation problem as a linear program.  Use gurobi to find the optimal budget allocation."
   ]
  },
  {
   "cell_type": "markdown",
   "id": "c2de3ca3",
   "metadata": {},
   "source": [
    "Variables : We have defined our variables as allocation in each of the promotion channel\n",
    "\n",
    "Objective Function :  Maximize the profit generated through allocation\n",
    "\n",
    "Constraints: \n",
    "* Amount(TV + Print) <= Amont(FB, Email)\n",
    "* Amount(Social Media) >= 2 * Amount(SEO,AdWords)\n",
    "* Amount(Each Channel)< $3 M"
   ]
  },
  {
   "cell_type": "code",
   "execution_count": 4,
   "id": "0cb6a68d",
   "metadata": {},
   "outputs": [
    {
     "name": "stdout",
     "output_type": "stream",
     "text": [
      "Academic license - for non-commercial use only - expires 2022-08-23\n",
      "Using license file C:\\Users\\arora\\gurobi.lic\n"
     ]
    }
   ],
   "source": [
    "obj = roi_1 # objective vector\n",
    "A = np.zeros((13,10)) # initialize constraint matrix\n",
    "\n",
    "############ Defining Constraints \n",
    "channel_level_cons = np.identity(10)\n",
    "overall_budget_cons = np.ones((1,10))\n",
    "A[11,[0,1]] = 1\n",
    "A[11,[4,9]] = -1\n",
    "A[12,4:9] = 1\n",
    "A[12,2:4] = -2\n",
    "A[0:10,] = channel_level_cons\n",
    "A[10] = overall_budget_cons\n",
    "##################################\n",
    "\n",
    "#### Output Part of the constraint####\n",
    "b = np.array([3,3,3,3,3,3,3,3,3,3,10,0,0]) \n",
    "sense = np.array(['<','<','<','<','<','<','<','<','<','<','<','<','>'])  \n",
    "\n",
    "ojModel = gp.Model() # initialize an empty model\n",
    "\n",
    "ojModX = ojModel.addMVar(10) # tell the model how many variables there are\n",
    "# must define the variables before adding constraints because variables go into the constraints\n",
    "ojModCon = ojModel.addMConstrs(A, ojModX, sense, b) # add the constraints to the model\n",
    "ojModel.setMObjective(None,obj,0,sense=gp.GRB.MAXIMIZE) # add the objective to the model...we'll talk about the None and the 0\n",
    "\n",
    "ojModel.Params.OutputFlag = 0 # tell gurobi to shut up!!"
   ]
  },
  {
   "cell_type": "code",
   "execution_count": 5,
   "id": "bc8c6507",
   "metadata": {},
   "outputs": [
    {
     "data": {
      "image/png": "[encoded data removed]",
      "text/plain": [
       "<Figure size 720x360 with 1 Axes>"
      ]
     },
     "metadata": {
      "needs_background": "light"
     },
     "output_type": "display_data"
    }
   ],
   "source": [
    "ojModel.optimize() # solve the LP\n",
    "optimal_value_roi1  = ojModel.objVal\n",
    "profit_1 = optimal_value_roi1 \n",
    "budget_dict_roi1 = dict(pd.Series(data  = ojModX.x, index = channels))\n",
    "#print(\"\\nBudget Allocations are : \")\n",
    "plt.figure(figsize = (10,5))\n",
    "roi_1_allocation = list(ojModX.x) \n",
    "sn.barplot(y   = ojModX.x, x = channels)\n",
    "plt.title(\"Budget Allocation\" )\n",
    "plt.show()"
   ]
  },
  {
   "cell_type": "markdown",
   "id": "d1707b6c",
   "metadata": {},
   "source": [
    "### 4)\tYour boss is happy to see the promising results presented by the marketing department. However, your boss is also very concerned because your boss recalls being somewhat disappointed after following such recommendations in the past. To be cautious about the decision, your team has decided to get another opinion about the ROI data and rerun the analysis.  The second consulting firm returns the estimates of the ROI data in the table below (also in the CSV file mentioned above).  You are asked to compare the two optimal allocations from these two ROI estimates.  "
   ]
  },
  {
   "cell_type": "code",
   "execution_count": 6,
   "id": "9279ac93",
   "metadata": {
    "scrolled": true
   },
   "outputs": [],
   "source": [
    "obj = roi_2 # objective vector\n",
    "A = np.zeros((13,10)) # initialize constraint matrix\n",
    "\n",
    "############ Defining Constraints \n",
    "channel_level_cons = np.identity(10)\n",
    "overall_budget_cons = np.ones((1,10))\n",
    "A[11,[0,1]] = 1\n",
    "A[11,[4,9]] = -1\n",
    "A[12,4:9] = 1\n",
    "A[12,2:4] = -2\n",
    "A[0:10,] = channel_level_cons\n",
    "A[10] = overall_budget_cons\n",
    "##################################\n",
    "\n",
    "#### Output Part of the constraint####\n",
    "b = np.array([3,3,3,3,3,3,3,3,3,3,10,0,0]) \n",
    "sense = np.array(['<','<','<','<','<','<','<','<','<','<','<','<','>'])  \n",
    "\n",
    "ojModel = gp.Model() # initialize an empty model\n",
    "\n",
    "ojModX = ojModel.addMVar(10) # tell the model how many variables there are\n",
    "# must define the variables before adding constraints because variables go into the constraints\n",
    "ojModCon = ojModel.addMConstrs(A, ojModX, sense, b) # add the constraints to the model\n",
    "ojModel.setMObjective(None,obj,0,sense=gp.GRB.MAXIMIZE) # add the objective to the model...we'll talk about the None and the 0\n",
    "\n",
    "ojModel.Params.OutputFlag = 0 # tell gurobi to shut up!!\n",
    "\n",
    "ojModel.optimize() # solve the LP\n",
    "profit_2 = ojModel.objVal \n",
    "roi_2_allocation = list(ojModX.x)\n",
    "budget_dict_roi2 = dict(pd.Series(data  = ojModX.x, index = channels))\n",
    "#print(\"\\nBudget Allocations are : \")\n",
    "#budget_dict_roi2"
   ]
  },
  {
   "cell_type": "code",
   "execution_count": 7,
   "id": "578eab66",
   "metadata": {},
   "outputs": [
    {
     "data": {
      "image/png": "[encoded data removed]",
      "text/plain": [
       "<Figure size 720x288 with 1 Axes>"
      ]
     },
     "metadata": {
      "needs_background": "light"
     },
     "output_type": "display_data"
    },
    {
     "data": {
      "image/png": "[encoded data removed]",
      "text/plain": [
       "<Figure size 720x288 with 1 Axes>"
      ]
     },
     "metadata": {
      "needs_background": "light"
     },
     "output_type": "display_data"
    }
   ],
   "source": [
    "df = pd.DataFrame({\n",
    "    'Channel': list(channels)*2,\n",
    "    'ROI': ['ROI 1']*len(channels) +['ROI 2']*len(channels),\n",
    "    'Allocation': roi_1_allocation+roi_2_allocation\n",
    "})\n",
    "\n",
    "plt.figure(figsize = (10,4))\n",
    "sn.barplot(y = 'Allocation', x = 'Channel', hue = 'ROI', data = df)\n",
    "plt.title(\"Optimal Budget Allocation For Different ROI Values\")\n",
    "plt.show()\n",
    "\n",
    "df = pd.DataFrame({\n",
    "    'ROI': ['ROI 1', 'ROI 2'],\n",
    "    'PROFIT': [profit_1,profit_2]\n",
    "})\n",
    "plt.figure(figsize = (10,4))\n",
    "sn.barplot(y = 'PROFIT', x = 'ROI', data = df)\n",
    "plt.title(\"Profit Across Two ROI Estimates\")\n",
    "plt.show()"
   ]
  },
  {
   "cell_type": "code",
   "execution_count": 8,
   "id": "acd69d01",
   "metadata": {},
   "outputs": [
    {
     "name": "stdout",
     "output_type": "stream",
     "text": [
      "When using ROI for first case and attribution for second, the change in obj function is -0.2040\n",
      "When using ROI for Second case and attribution for First, the change in obj function is -0.1900\n"
     ]
    }
   ],
   "source": [
    "## Using ROI-1 based attribution on ROI-2\n",
    "profit_a = sum(roi_1* np.array(list(budget_dict_roi2.values())))\n",
    "\n",
    "print(\"When using ROI for first case and attribution for second, the change in obj function is {:.4f}\".format(profit_a-ojModel.objVal))\n",
    "## Using ROI-2 based attribution on ROI-1\n",
    "profit_b = sum(roi_2* np.array(list(budget_dict_roi1.values())))\n",
    "#print(np.round(profit_b-ojModel.objVal,2))\n",
    "print(\"When using ROI for Second case and attribution for First, the change in obj function is {:.4f}\".format(np.round(profit_b-ojModel.objVal,2)))\n"
   ]
  },
  {
   "cell_type": "markdown",
   "id": "fd5196f6",
   "metadata": {},
   "source": [
    "### 5)\tAre the allocations the same?  Assuming the first ROI data is correct, if you were to use the second allocation (the allocation that assumed the second ROI data was correct) how much lower would the objective be relative to the optimal objective (the one that uses the first ROI data and the first allocation)?  Assuming the second ROI data is correct, if you used the first allocation how much lower would the objective be relative to the optimal objective?  Do you think the third constraint above, based on your boss’ experience, is useful? "
   ]
  },
  {
   "cell_type": "markdown",
   "id": "d71a72c6",
   "metadata": {},
   "source": [
    "* We can infer from the above graphs that the two allocations are not same.\n",
    "* Answered in the output of chunk above\n",
    "* Yes, the third constraint is useful because if the highest ROI channel is not restricted, the optimizer will put all the money in the most profitable channel. Having the budget allocation constrained at $3M, we can have a diversity in our marketing portfolio"
   ]
  },
  {
   "cell_type": "markdown",
   "id": "6152925f",
   "metadata": {},
   "source": [
    "### 6)\tTo explore this further perform some analysis of how your optimal allocation would change based on changes in the ROI data.  Use the first ROI data as your starting point.  By how much could each advertising medium’s ROI increase or decrease and still result in the same optimal allocation you found in step (3)?"
   ]
  },
  {
   "cell_type": "markdown",
   "id": "d2d592d2",
   "metadata": {},
   "source": [
    "Below code will help us find the sensitivity to allocation for input ROI matrix"
   ]
  },
  {
   "cell_type": "code",
   "execution_count": 9,
   "id": "a2dcc297",
   "metadata": {},
   "outputs": [],
   "source": [
    "def optimization_function(roi_matrix, flag=0):\n",
    "    obj = roi_matrix # objective vector\n",
    "    A = np.zeros((13,10)) # initialize constraint matrix\n",
    "\n",
    "    ############ Defining Constraints \n",
    "    channel_level_cons = np.identity(10)\n",
    "    overall_budget_cons = np.ones((1,10))\n",
    "    A[11,[0,1]] = 1\n",
    "    A[11,[4,9]] = -1\n",
    "    A[12,4:9] = 1\n",
    "    A[12,2:4] = -2\n",
    "    A[0:10,] = channel_level_cons\n",
    "    A[10] = overall_budget_cons\n",
    "    ##################################\n",
    "\n",
    "    #### Output Part of the constraint####\n",
    "    b = np.array([3,3,3,3,3,3,3,3,3,3,10,0,0]) \n",
    "    sense = np.array(['<','<','<','<','<','<','<','<','<','<','<','<','>'])  \n",
    "\n",
    "    ojModel = gp.Model() # initialize an empty model\n",
    "\n",
    "    ojModX = ojModel.addMVar(10) # tell the model how many variables there are\n",
    "    # must define the variables before adding constraints because variables go into the constraints\n",
    "    ojModCon = ojModel.addMConstrs(A, ojModX, sense, b) # add the constraints to the model\n",
    "    ojModel.setMObjective(None,obj,0,sense=gp.GRB.MAXIMIZE) # add the objective to the model...we'll talk about the None and the 0\n",
    "\n",
    "    ojModel.Params.OutputFlag = 0 # tell gurobi to shut up!!\n",
    "\n",
    "    ojModel.optimize() # solve the LP\n",
    "    \n",
    "    objective_value = ojModel.objVal\n",
    "    budget_allocation = ojModX.x\n",
    "    ret_values = np.append(budget_allocation,objective_value)\n",
    "    ret_values = np.append(np.array(obj) , ret_values)\n",
    "    \n",
    "    if flag ==1:\n",
    "        return ojModel.SAObjLow, ojModel.SAObjUp\n",
    "        \n",
    "    \n",
    "    return ret_values"
   ]
  },
  {
   "cell_type": "code",
   "execution_count": 10,
   "id": "7a1c0d92",
   "metadata": {},
   "outputs": [],
   "source": [
    "## Creating a dataframe that stores everything from ROI to Allocation and Objective value\n",
    "df1 = pd.DataFrame(pd.Series(budget_dict_roi1)).T\n",
    "df1.columns = ['ALLOCATION_'+ x for x in df1.columns]\n",
    "\n",
    "df2 = pd.DataFrame(pd.Series(data = roi_1, index = list(budget_dict_roi1.keys()))).T\n",
    "df2.columns = ['ROI_'+ x for x in df2.columns]\n"
   ]
  },
  {
   "cell_type": "code",
   "execution_count": 11,
   "id": "10923e6a",
   "metadata": {
    "scrolled": true
   },
   "outputs": [
    {
     "data": {
      "text/plain": [
       "Text(0.5, 1.0, 'ROI Sensitivity Analysis : White in LB & UB indicates -inf & +inf respectively')"
      ]
     },
     "execution_count": 11,
     "metadata": {},
     "output_type": "execute_result"
    },
    {
     "data": {
      "image/png": "[encoded data removed]",
      "text/plain": [
       "<Figure size 432x288 with 2 Axes>"
      ]
     },
     "metadata": {
      "needs_background": "light"
     },
     "output_type": "display_data"
    }
   ],
   "source": [
    "## Suppress depreciation warnings\n",
    "import warnings\n",
    "warnings.filterwarnings(\"ignore\", category=DeprecationWarning) \n",
    "###################################################################\n",
    "\n",
    "roi_copy = roi_1.copy()\n",
    "lower, upper = optimization_function(roi_copy, flag=1)\n",
    "gb_sensitivity = pd.DataFrame([], columns = ['Channels','lower bound', 'upper bound']) \n",
    "gb_sensitivity['Channels'] = list(budget_dict_roi1.keys())\n",
    "gb_sensitivity['lower bound'] = lower\n",
    "gb_sensitivity['upper bound'] = upper\n",
    "gb_sensitivity.set_index('Channels', drop=True, inplace = True)\n",
    "sn.heatmap(gb_sensitivity, annot = True, linecolor = 'gray', linewidths = 0.1)\n",
    "plt.title(\"ROI Sensitivity Analysis : White in LB & UB indicates -inf & +inf respectively\" )"
   ]
  },
  {
   "cell_type": "markdown",
   "id": "45648306",
   "metadata": {},
   "source": [
    "### 7)\tYour boss has gained permission to reinvest half of the return. For example, if the marketing obtains a 4% return in January, the budget of February will be 10M USD + 10M × 4% × 50% = 10.2M USD.  The monthly ROI for next year is given in Project1.Rdata. The three constraints given by your boss are still in place for each month.  What is the optimal allocation for each month? "
   ]
  },
  {
   "cell_type": "code",
   "execution_count": 12,
   "id": "4479b74d",
   "metadata": {},
   "outputs": [],
   "source": [
    "def optimization_function_month(roi_matrix, budget):\n",
    "    obj = roi_matrix # objective vector\n",
    "    A = np.zeros((13,10)) # initialize constraint matrix\n",
    "\n",
    "    ############ Defining Constraints \n",
    "    channel_level_cons = np.identity(10)\n",
    "    overall_budget_cons = np.ones((1,10))\n",
    "    A[11,[0,1]] = 1\n",
    "    A[11,[4,9]] = -1\n",
    "    A[12,4:9] = 1\n",
    "    A[12,2:4] = -2\n",
    "    A[0:10,] = channel_level_cons\n",
    "    A[10] = overall_budget_cons\n",
    "    ##################################\n",
    "\n",
    "    #### Output Part of the constraint####\n",
    "    b = np.array([3,3,3,3,3,3,3,3,3,3,budget,0,0]) \n",
    "    sense = np.array(['<','<','<','<','<','<','<','<','<','<','<','<','>'])  \n",
    "\n",
    "    ojModel = gp.Model() # initialize an empty model\n",
    "\n",
    "    ojModX = ojModel.addMVar(10) # tell the model how many variables there are\n",
    "    # must define the variables before adding constraints because variables go into the constraints\n",
    "    ojModCon = ojModel.addMConstrs(A, ojModX, sense, b) # add the constraints to the model\n",
    "    ojModel.setMObjective(None,obj,0,sense=gp.GRB.MAXIMIZE) # add the objective to the model...we'll talk about the None and the 0\n",
    "\n",
    "    ojModel.Params.OutputFlag = 0 # tell gurobi to shut up!!\n",
    "\n",
    "    ojModel.optimize() # solve the LP\n",
    "    \n",
    "    objective_value = ojModel.objVal\n",
    "    budget_allocation = ojModX.x\n",
    "    \n",
    "    return objective_value, budget_allocation"
   ]
  },
  {
   "cell_type": "markdown",
   "id": "352f00dd",
   "metadata": {},
   "source": [
    "### Import the ROI matrix"
   ]
  },
  {
   "cell_type": "code",
   "execution_count": 13,
   "id": "e3535aa3",
   "metadata": {},
   "outputs": [
    {
     "data": {
      "text/html": [
       "<div>\n",
       "<style scoped>\n",
       "    .dataframe tbody tr th:only-of-type {\n",
       "        vertical-align: middle;\n",
       "    }\n",
       "\n",
       "    .dataframe tbody tr th {\n",
       "        vertical-align: top;\n",
       "    }\n",
       "\n",
       "    .dataframe thead th {\n",
       "        text-align: right;\n",
       "    }\n",
       "</style>\n",
       "<table border=\"1\" class=\"dataframe\">\n",
       "  <thead>\n",
       "    <tr style=\"text-align: right;\">\n",
       "      <th></th>\n",
       "      <th>Print</th>\n",
       "      <th>TV</th>\n",
       "      <th>SEO</th>\n",
       "      <th>AdWords</th>\n",
       "      <th>Facebook</th>\n",
       "      <th>LinkedIn</th>\n",
       "      <th>Instagram</th>\n",
       "      <th>Snapchat</th>\n",
       "      <th>Twitter</th>\n",
       "      <th>Email</th>\n",
       "    </tr>\n",
       "  </thead>\n",
       "  <tbody>\n",
       "    <tr>\n",
       "      <th>0</th>\n",
       "      <td>4.0</td>\n",
       "      <td>3.6</td>\n",
       "      <td>2.4</td>\n",
       "      <td>3.9</td>\n",
       "      <td>3.0</td>\n",
       "      <td>3.5</td>\n",
       "      <td>3.6</td>\n",
       "      <td>2.25</td>\n",
       "      <td>3.5</td>\n",
       "      <td>3.5</td>\n",
       "    </tr>\n",
       "    <tr>\n",
       "      <th>1</th>\n",
       "      <td>4.0</td>\n",
       "      <td>3.9</td>\n",
       "      <td>2.7</td>\n",
       "      <td>3.8</td>\n",
       "      <td>4.3</td>\n",
       "      <td>3.2</td>\n",
       "      <td>2.7</td>\n",
       "      <td>1.80</td>\n",
       "      <td>3.7</td>\n",
       "      <td>3.5</td>\n",
       "    </tr>\n",
       "    <tr>\n",
       "      <th>2</th>\n",
       "      <td>3.5</td>\n",
       "      <td>2.9</td>\n",
       "      <td>3.1</td>\n",
       "      <td>3.8</td>\n",
       "      <td>2.4</td>\n",
       "      <td>4.1</td>\n",
       "      <td>3.7</td>\n",
       "      <td>2.60</td>\n",
       "      <td>4.2</td>\n",
       "      <td>2.5</td>\n",
       "    </tr>\n",
       "    <tr>\n",
       "      <th>3</th>\n",
       "      <td>3.8</td>\n",
       "      <td>3.1</td>\n",
       "      <td>2.4</td>\n",
       "      <td>4.4</td>\n",
       "      <td>2.4</td>\n",
       "      <td>3.8</td>\n",
       "      <td>3.7</td>\n",
       "      <td>2.50</td>\n",
       "      <td>3.6</td>\n",
       "      <td>2.9</td>\n",
       "    </tr>\n",
       "    <tr>\n",
       "      <th>4</th>\n",
       "      <td>3.5</td>\n",
       "      <td>3.2</td>\n",
       "      <td>1.9</td>\n",
       "      <td>3.4</td>\n",
       "      <td>2.7</td>\n",
       "      <td>2.7</td>\n",
       "      <td>3.9</td>\n",
       "      <td>2.20</td>\n",
       "      <td>4.5</td>\n",
       "      <td>3.9</td>\n",
       "    </tr>\n",
       "  </tbody>\n",
       "</table>\n",
       "</div>"
      ],
      "text/plain": [
       "   Print   TV  SEO  AdWords  Facebook  LinkedIn  Instagram  Snapchat  Twitter  \\\n",
       "0    4.0  3.6  2.4      3.9       3.0       3.5        3.6      2.25      3.5   \n",
       "1    4.0  3.9  2.7      3.8       4.3       3.2        2.7      1.80      3.7   \n",
       "2    3.5  2.9  3.1      3.8       2.4       4.1        3.7      2.60      4.2   \n",
       "3    3.8  3.1  2.4      4.4       2.4       3.8        3.7      2.50      3.6   \n",
       "4    3.5  3.2  1.9      3.4       2.7       2.7        3.9      2.20      4.5   \n",
       "\n",
       "   Email  \n",
       "0    3.5  \n",
       "1    3.5  \n",
       "2    2.5  \n",
       "3    2.9  \n",
       "4    3.9  "
      ]
     },
     "execution_count": 13,
     "metadata": {},
     "output_type": "execute_result"
    }
   ],
   "source": [
    "monthly_roi = pd.read_csv(\"roi_mat.csv\")\n",
    "monthly_roi_clean = monthly_roi.drop(monthly_roi.columns[0], axis = 1)\n",
    "monthly_roi_clean.head()"
   ]
  },
  {
   "cell_type": "markdown",
   "id": "b5de2855",
   "metadata": {},
   "source": [
    "- We  use the ROI shared by first consulting firm to optimally allocate the funds\n",
    "- Then, we use the actual monthly ROI to calculate the profit per channel"
   ]
  },
  {
   "cell_type": "code",
   "execution_count": 14,
   "id": "89b8ef2a",
   "metadata": {
    "scrolled": false
   },
   "outputs": [],
   "source": [
    "budget = 10\n",
    "previous_allocation = np.zeros(10)\n",
    "month_iter = 0\n",
    "channels = list(channels)\n",
    "channels.append('Month')\n",
    "DeltaBudgetAllocation = list([])\n",
    "empty_df  = pd.DataFrame([], columns = channels)\n",
    "budget_list = []\n",
    "\n",
    "for x in ['Jan','Feb','Mar','Apr','May','Jun','Jul','Aug','Sep','Oct','Nov','Dec']:\n",
    "    roi_month = np.array(monthly_roi_clean.loc[month_iter,:])/100 \n",
    "    forecasted_profit, budget_allocation_based_on_forecast_ROI = optimization_function_month(roi_1,budget)\n",
    "    roi_month_df  = pd.DataFrame([], columns =channels )\n",
    "    roi_month_df.loc['Budget Allocation',:] = list(np.round(budget_allocation_based_on_forecast_ROI,2))+[x]\n",
    "    DeltaBudgetAllocation.append(list(np.round(budget_allocation_based_on_forecast_ROI - previous_allocation,2)))\n",
    "    profit_monthly = np.sum(np.round(budget_allocation_based_on_forecast_ROI,2)*roi_month)\n",
    "    roi_month_df \n",
    "    previous_allocation = budget_allocation_based_on_forecast_ROI\n",
    "    month_iter= month_iter+1\n",
    "    budget = budget + 0.5*profit_monthly\n",
    "    budget_list.append(budget)\n",
    "    empty_df = pd.concat([empty_df, roi_month_df], ignore_index=True)"
   ]
  },
  {
   "cell_type": "markdown",
   "id": "33076e58",
   "metadata": {},
   "source": [
    "Below is the summary of monthly allocation of budget for each channel "
   ]
  },
  {
   "cell_type": "code",
   "execution_count": 15,
   "id": "06d3bcc6",
   "metadata": {},
   "outputs": [
    {
     "data": {
      "text/html": [
       "<div>\n",
       "<style scoped>\n",
       "    .dataframe tbody tr th:only-of-type {\n",
       "        vertical-align: middle;\n",
       "    }\n",
       "\n",
       "    .dataframe tbody tr th {\n",
       "        vertical-align: top;\n",
       "    }\n",
       "\n",
       "    .dataframe thead th {\n",
       "        text-align: right;\n",
       "    }\n",
       "</style>\n",
       "<table border=\"1\" class=\"dataframe\">\n",
       "  <thead>\n",
       "    <tr style=\"text-align: right;\">\n",
       "      <th>Month</th>\n",
       "      <th>Jan</th>\n",
       "      <th>Feb</th>\n",
       "      <th>Mar</th>\n",
       "      <th>Apr</th>\n",
       "      <th>May</th>\n",
       "      <th>Jun</th>\n",
       "      <th>Jul</th>\n",
       "      <th>Aug</th>\n",
       "      <th>Sep</th>\n",
       "      <th>Oct</th>\n",
       "      <th>Nov</th>\n",
       "      <th>Dec</th>\n",
       "    </tr>\n",
       "  </thead>\n",
       "  <tbody>\n",
       "    <tr>\n",
       "      <th>Print</th>\n",
       "      <td>0.0</td>\n",
       "      <td>0.0</td>\n",
       "      <td>0.0</td>\n",
       "      <td>0.0</td>\n",
       "      <td>0.0</td>\n",
       "      <td>0.0</td>\n",
       "      <td>0.0</td>\n",
       "      <td>0.0</td>\n",
       "      <td>0.0</td>\n",
       "      <td>0.0</td>\n",
       "      <td>0.0</td>\n",
       "      <td>0.0</td>\n",
       "    </tr>\n",
       "    <tr>\n",
       "      <th>TV</th>\n",
       "      <td>3.0</td>\n",
       "      <td>3.0</td>\n",
       "      <td>3.0</td>\n",
       "      <td>3.0</td>\n",
       "      <td>3.0</td>\n",
       "      <td>3.0</td>\n",
       "      <td>3.0</td>\n",
       "      <td>3.0</td>\n",
       "      <td>3.0</td>\n",
       "      <td>3.0</td>\n",
       "      <td>3.0</td>\n",
       "      <td>3.0</td>\n",
       "    </tr>\n",
       "    <tr>\n",
       "      <th>SEO</th>\n",
       "      <td>0.0</td>\n",
       "      <td>0.0</td>\n",
       "      <td>0.0</td>\n",
       "      <td>0.0</td>\n",
       "      <td>0.0</td>\n",
       "      <td>0.0</td>\n",
       "      <td>0.0</td>\n",
       "      <td>0.0</td>\n",
       "      <td>0.0</td>\n",
       "      <td>0.0</td>\n",
       "      <td>0.0</td>\n",
       "      <td>0.0</td>\n",
       "    </tr>\n",
       "    <tr>\n",
       "      <th>AdWords</th>\n",
       "      <td>1.0</td>\n",
       "      <td>1.18</td>\n",
       "      <td>1.35</td>\n",
       "      <td>1.51</td>\n",
       "      <td>1.56</td>\n",
       "      <td>1.63</td>\n",
       "      <td>1.7</td>\n",
       "      <td>1.77</td>\n",
       "      <td>1.85</td>\n",
       "      <td>1.91</td>\n",
       "      <td>1.97</td>\n",
       "      <td>2.05</td>\n",
       "    </tr>\n",
       "    <tr>\n",
       "      <th>Facebook</th>\n",
       "      <td>0.0</td>\n",
       "      <td>0.0</td>\n",
       "      <td>0.0</td>\n",
       "      <td>0.0</td>\n",
       "      <td>0.0</td>\n",
       "      <td>0.0</td>\n",
       "      <td>0.0</td>\n",
       "      <td>0.0</td>\n",
       "      <td>0.0</td>\n",
       "      <td>0.0</td>\n",
       "      <td>0.0</td>\n",
       "      <td>0.0</td>\n",
       "    </tr>\n",
       "    <tr>\n",
       "      <th>LinkedIn</th>\n",
       "      <td>0.0</td>\n",
       "      <td>0.0</td>\n",
       "      <td>0.0</td>\n",
       "      <td>0.0</td>\n",
       "      <td>0.0</td>\n",
       "      <td>0.0</td>\n",
       "      <td>0.0</td>\n",
       "      <td>0.0</td>\n",
       "      <td>0.0</td>\n",
       "      <td>0.0</td>\n",
       "      <td>0.0</td>\n",
       "      <td>0.0</td>\n",
       "    </tr>\n",
       "    <tr>\n",
       "      <th>Instagram</th>\n",
       "      <td>3.0</td>\n",
       "      <td>3.0</td>\n",
       "      <td>3.0</td>\n",
       "      <td>3.0</td>\n",
       "      <td>3.0</td>\n",
       "      <td>3.0</td>\n",
       "      <td>3.0</td>\n",
       "      <td>3.0</td>\n",
       "      <td>3.0</td>\n",
       "      <td>3.0</td>\n",
       "      <td>3.0</td>\n",
       "      <td>3.0</td>\n",
       "    </tr>\n",
       "    <tr>\n",
       "      <th>Snapchat</th>\n",
       "      <td>0.0</td>\n",
       "      <td>0.0</td>\n",
       "      <td>0.0</td>\n",
       "      <td>0.0</td>\n",
       "      <td>0.0</td>\n",
       "      <td>0.0</td>\n",
       "      <td>0.0</td>\n",
       "      <td>0.0</td>\n",
       "      <td>0.0</td>\n",
       "      <td>0.0</td>\n",
       "      <td>0.0</td>\n",
       "      <td>0.0</td>\n",
       "    </tr>\n",
       "    <tr>\n",
       "      <th>Twitter</th>\n",
       "      <td>0.0</td>\n",
       "      <td>0.0</td>\n",
       "      <td>0.0</td>\n",
       "      <td>0.01</td>\n",
       "      <td>0.13</td>\n",
       "      <td>0.26</td>\n",
       "      <td>0.4</td>\n",
       "      <td>0.55</td>\n",
       "      <td>0.69</td>\n",
       "      <td>0.82</td>\n",
       "      <td>0.95</td>\n",
       "      <td>1.1</td>\n",
       "    </tr>\n",
       "    <tr>\n",
       "      <th>Email</th>\n",
       "      <td>3.0</td>\n",
       "      <td>3.0</td>\n",
       "      <td>3.0</td>\n",
       "      <td>3.0</td>\n",
       "      <td>3.0</td>\n",
       "      <td>3.0</td>\n",
       "      <td>3.0</td>\n",
       "      <td>3.0</td>\n",
       "      <td>3.0</td>\n",
       "      <td>3.0</td>\n",
       "      <td>3.0</td>\n",
       "      <td>3.0</td>\n",
       "    </tr>\n",
       "  </tbody>\n",
       "</table>\n",
       "</div>"
      ],
      "text/plain": [
       "Month      Jan   Feb   Mar   Apr   May   Jun  Jul   Aug   Sep   Oct   Nov  \\\n",
       "Print      0.0   0.0   0.0   0.0   0.0   0.0  0.0   0.0   0.0   0.0   0.0   \n",
       "TV         3.0   3.0   3.0   3.0   3.0   3.0  3.0   3.0   3.0   3.0   3.0   \n",
       "SEO        0.0   0.0   0.0   0.0   0.0   0.0  0.0   0.0   0.0   0.0   0.0   \n",
       "AdWords    1.0  1.18  1.35  1.51  1.56  1.63  1.7  1.77  1.85  1.91  1.97   \n",
       "Facebook   0.0   0.0   0.0   0.0   0.0   0.0  0.0   0.0   0.0   0.0   0.0   \n",
       "LinkedIn   0.0   0.0   0.0   0.0   0.0   0.0  0.0   0.0   0.0   0.0   0.0   \n",
       "Instagram  3.0   3.0   3.0   3.0   3.0   3.0  3.0   3.0   3.0   3.0   3.0   \n",
       "Snapchat   0.0   0.0   0.0   0.0   0.0   0.0  0.0   0.0   0.0   0.0   0.0   \n",
       "Twitter    0.0   0.0   0.0  0.01  0.13  0.26  0.4  0.55  0.69  0.82  0.95   \n",
       "Email      3.0   3.0   3.0   3.0   3.0   3.0  3.0   3.0   3.0   3.0   3.0   \n",
       "\n",
       "Month       Dec  \n",
       "Print       0.0  \n",
       "TV          3.0  \n",
       "SEO         0.0  \n",
       "AdWords    2.05  \n",
       "Facebook    0.0  \n",
       "LinkedIn    0.0  \n",
       "Instagram   3.0  \n",
       "Snapchat    0.0  \n",
       "Twitter     1.1  \n",
       "Email       3.0  "
      ]
     },
     "execution_count": 15,
     "metadata": {},
     "output_type": "execute_result"
    }
   ],
   "source": [
    "allocation_df = empty_df.set_index(['Month'], drop = True)\n",
    "allocation_df.T"
   ]
  },
  {
   "cell_type": "markdown",
   "id": "8e997d6d",
   "metadata": {},
   "source": [
    "# 8)\tA stable budget is defined as a monthly allocation such that for each platform the monthly change in spend is no more than 1M USD. Is the allocation you found stable? If it isn’t, you do not need to solve a new optimization model.  Describe how my might model this?"
   ]
  },
  {
   "cell_type": "markdown",
   "id": "b914d49a",
   "metadata": {},
   "source": [
    "From the above table,  we observe that it is a stable allocation. If it was unstable, we will add one additional constraint for each channel indicating that the difference in the consecutive months should be no more than 1M for each channel. "
   ]
  }
 ],
 "metadata": {
  "kernelspec": {
   "display_name": "Python 3",
   "language": "python",
   "name": "python3"
  },
  "language_info": {
   "codemirror_mode": {
    "name": "ipython",
    "version": 3
   },
   "file_extension": ".py",
   "mimetype": "text/x-python",
   "name": "python",
   "nbconvert_exporter": "python",
   "pygments_lexer": "ipython3",
   "version": "3.8.8"
  }
 },
 "nbformat": 4,
 "nbformat_minor": 5
}
